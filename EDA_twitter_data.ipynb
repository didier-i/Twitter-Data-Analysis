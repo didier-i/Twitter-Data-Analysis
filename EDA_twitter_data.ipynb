{
 "cells": [
  {
   "cell_type": "code",
   "execution_count": 1,
   "id": "63427d08",
   "metadata": {},
   "outputs": [],
   "source": [
    "from temp_extract_dataframe import read_json\n",
    "from temp_extract_dataframe import TweetDfExtractor\n",
    "from temp_clean_tweets_dataframe import Clean_Tweets"
   ]
  },
  {
   "cell_type": "code",
   "execution_count": 20,
   "id": "44771213",
   "metadata": {},
   "outputs": [],
   "source": [
    "import pandas as pd"
   ]
  },
  {
   "cell_type": "code",
   "execution_count": 2,
   "id": "4b571ae3",
   "metadata": {},
   "outputs": [],
   "source": [
    "if __name__ == \"__main__\":\n",
    "    _, tweet_list = read_json(\"data/Economic_Twitter_Data.json\")\n",
    "    tweet = TweetDfExtractor(tweet_list)\n",
    "    tweet_df = tweet.get_tweet_df()"
   ]
  },
  {
   "cell_type": "code",
   "execution_count": 3,
   "id": "7b63db8e",
   "metadata": {},
   "outputs": [
    {
     "data": {
      "text/plain": [
       "(24625, 15)"
      ]
     },
     "execution_count": 3,
     "metadata": {},
     "output_type": "execute_result"
    }
   ],
   "source": [
    "tweet_df.shape"
   ]
  },
  {
   "cell_type": "code",
   "execution_count": 4,
   "id": "61511a89",
   "metadata": {},
   "outputs": [
    {
     "name": "stdout",
     "output_type": "stream",
     "text": [
      "Automation in Action...!!!\n"
     ]
    }
   ],
   "source": [
    "ct = Clean_Tweets(tweet_df)"
   ]
  },
  {
   "cell_type": "code",
   "execution_count": 5,
   "id": "b9722e2c",
   "metadata": {},
   "outputs": [],
   "source": [
    "df_unwanted_dropped = ct.drop_unwanted_column(tweet_df)"
   ]
  },
  {
   "cell_type": "code",
   "execution_count": 6,
   "id": "9e27ad9a",
   "metadata": {},
   "outputs": [
    {
     "data": {
      "text/plain": [
       "(24625, 15)"
      ]
     },
     "execution_count": 6,
     "metadata": {},
     "output_type": "execute_result"
    }
   ],
   "source": [
    "df_unwanted_dropped.shape"
   ]
  },
  {
   "cell_type": "code",
   "execution_count": 7,
   "id": "a222383f",
   "metadata": {},
   "outputs": [],
   "source": [
    "df_duplicate_dropped = ct.drop_duplicate(tweet_df)"
   ]
  },
  {
   "cell_type": "code",
   "execution_count": 8,
   "id": "30ab4ee5",
   "metadata": {},
   "outputs": [
    {
     "data": {
      "text/plain": [
       "(24625, 15)"
      ]
     },
     "execution_count": 8,
     "metadata": {},
     "output_type": "execute_result"
    }
   ],
   "source": [
    "df_duplicate_dropped.shape"
   ]
  },
  {
   "cell_type": "code",
   "execution_count": 9,
   "id": "5df295a6",
   "metadata": {},
   "outputs": [],
   "source": [
    "df_with_datetime = ct.convert_to_datetime(tweet_df)"
   ]
  },
  {
   "cell_type": "code",
   "execution_count": 10,
   "id": "dcf475bb",
   "metadata": {},
   "outputs": [
    {
     "data": {
      "text/plain": [
       "(24625, 15)"
      ]
     },
     "execution_count": 10,
     "metadata": {},
     "output_type": "execute_result"
    }
   ],
   "source": [
    "df_with_datetime.shape"
   ]
  },
  {
   "cell_type": "code",
   "execution_count": 11,
   "id": "3bee2ad7",
   "metadata": {},
   "outputs": [],
   "source": [
    "df_converted_to_numbers = ct.convert_to_numbers(tweet_df)"
   ]
  },
  {
   "cell_type": "code",
   "execution_count": 12,
   "id": "faf25197",
   "metadata": {},
   "outputs": [
    {
     "data": {
      "text/plain": [
       "(24625, 15)"
      ]
     },
     "execution_count": 12,
     "metadata": {},
     "output_type": "execute_result"
    }
   ],
   "source": [
    "df_converted_to_numbers.shape"
   ]
  },
  {
   "cell_type": "code",
   "execution_count": 13,
   "id": "fdddfd55",
   "metadata": {},
   "outputs": [],
   "source": [
    "df_non_english_removed = ct.remove_non_english_tweets(tweet_df)"
   ]
  },
  {
   "cell_type": "code",
   "execution_count": 14,
   "id": "ef50f55f",
   "metadata": {},
   "outputs": [
    {
     "data": {
      "text/html": [
       "<div>\n",
       "<style scoped>\n",
       "    .dataframe tbody tr th:only-of-type {\n",
       "        vertical-align: middle;\n",
       "    }\n",
       "\n",
       "    .dataframe tbody tr th {\n",
       "        vertical-align: top;\n",
       "    }\n",
       "\n",
       "    .dataframe thead th {\n",
       "        text-align: right;\n",
       "    }\n",
       "</style>\n",
       "<table border=\"1\" class=\"dataframe\">\n",
       "  <thead>\n",
       "    <tr style=\"text-align: right;\">\n",
       "      <th></th>\n",
       "      <th>created_at</th>\n",
       "      <th>source</th>\n",
       "      <th>original_text</th>\n",
       "      <th>polarity</th>\n",
       "      <th>subjectivity</th>\n",
       "      <th>lang</th>\n",
       "      <th>favorite_count</th>\n",
       "      <th>retweet_count</th>\n",
       "      <th>original_author</th>\n",
       "      <th>followers_count</th>\n",
       "      <th>friends_count</th>\n",
       "      <th>possibly_sensitive</th>\n",
       "      <th>hashtags</th>\n",
       "      <th>user_mentions</th>\n",
       "      <th>place</th>\n",
       "    </tr>\n",
       "  </thead>\n",
       "  <tbody>\n",
       "  </tbody>\n",
       "</table>\n",
       "</div>"
      ],
      "text/plain": [
       "Empty DataFrame\n",
       "Columns: [created_at, source, original_text, polarity, subjectivity, lang, favorite_count, retweet_count, original_author, followers_count, friends_count, possibly_sensitive, hashtags, user_mentions, place]\n",
       "Index: []"
      ]
     },
     "execution_count": 14,
     "metadata": {},
     "output_type": "execute_result"
    }
   ],
   "source": [
    "df_non_english_removed"
   ]
  },
  {
   "cell_type": "code",
   "execution_count": 55,
   "id": "a1e08c35",
   "metadata": {},
   "outputs": [
    {
     "data": {
      "text/plain": [
       "(24625, 15)"
      ]
     },
     "execution_count": 55,
     "metadata": {},
     "output_type": "execute_result"
    }
   ],
   "source": [
    "tweet_df.shape"
   ]
  },
  {
   "cell_type": "code",
   "execution_count": 56,
   "id": "2db5e651",
   "metadata": {},
   "outputs": [
    {
     "data": {
      "text/html": [
       "<div>\n",
       "<style scoped>\n",
       "    .dataframe tbody tr th:only-of-type {\n",
       "        vertical-align: middle;\n",
       "    }\n",
       "\n",
       "    .dataframe tbody tr th {\n",
       "        vertical-align: top;\n",
       "    }\n",
       "\n",
       "    .dataframe thead th {\n",
       "        text-align: right;\n",
       "    }\n",
       "</style>\n",
       "<table border=\"1\" class=\"dataframe\">\n",
       "  <thead>\n",
       "    <tr style=\"text-align: right;\">\n",
       "      <th></th>\n",
       "      <th>created_at</th>\n",
       "      <th>source</th>\n",
       "      <th>original_text</th>\n",
       "      <th>polarity</th>\n",
       "      <th>subjectivity</th>\n",
       "      <th>lang</th>\n",
       "      <th>favorite_count</th>\n",
       "      <th>retweet_count</th>\n",
       "      <th>original_author</th>\n",
       "      <th>followers_count</th>\n",
       "      <th>friends_count</th>\n",
       "      <th>possibly_sensitive</th>\n",
       "      <th>hashtags</th>\n",
       "      <th>user_mentions</th>\n",
       "      <th>place</th>\n",
       "    </tr>\n",
       "  </thead>\n",
       "  <tbody>\n",
       "    <tr>\n",
       "      <th>0</th>\n",
       "      <td>2022-04-22 22:20:18+00:00</td>\n",
       "      <td>&lt;a href=\"http://twitter.com/download/android\" ...</td>\n",
       "      <td>NaN</td>\n",
       "      <td>-0.1</td>\n",
       "      <td>0.5</td>\n",
       "      <td>de</td>\n",
       "      <td>NaN</td>\n",
       "      <td>355</td>\n",
       "      <td>NaN</td>\n",
       "      <td>NaN</td>\n",
       "      <td>12</td>\n",
       "      <td>NaN</td>\n",
       "      <td></td>\n",
       "      <td>NaN</td>\n",
       "      <td>NaN</td>\n",
       "    </tr>\n",
       "    <tr>\n",
       "      <th>1</th>\n",
       "      <td>2022-04-22 22:19:16+00:00</td>\n",
       "      <td>&lt;a href=\"http://twitter.com/download/android\" ...</td>\n",
       "      <td>NaN</td>\n",
       "      <td>NaN</td>\n",
       "      <td>0.5</td>\n",
       "      <td>de</td>\n",
       "      <td>NaN</td>\n",
       "      <td>505</td>\n",
       "      <td>NaN</td>\n",
       "      <td>NaN</td>\n",
       "      <td>12</td>\n",
       "      <td>NaN</td>\n",
       "      <td></td>\n",
       "      <td>NaN</td>\n",
       "      <td>NaN</td>\n",
       "    </tr>\n",
       "    <tr>\n",
       "      <th>2</th>\n",
       "      <td>2022-04-22 22:17:28+00:00</td>\n",
       "      <td>&lt;a href=\"http://twitter.com/download/android\" ...</td>\n",
       "      <td>NaN</td>\n",
       "      <td>NaN</td>\n",
       "      <td>0.5</td>\n",
       "      <td>de</td>\n",
       "      <td>NaN</td>\n",
       "      <td>4</td>\n",
       "      <td>NaN</td>\n",
       "      <td>NaN</td>\n",
       "      <td>12</td>\n",
       "      <td>NaN</td>\n",
       "      <td></td>\n",
       "      <td>NaN</td>\n",
       "      <td>NaN</td>\n",
       "    </tr>\n",
       "    <tr>\n",
       "      <th>3</th>\n",
       "      <td>2022-04-22 22:17:20+00:00</td>\n",
       "      <td>&lt;a href=\"http://twitter.com/download/android\" ...</td>\n",
       "      <td>NaN</td>\n",
       "      <td>NaN</td>\n",
       "      <td>0.5</td>\n",
       "      <td>de</td>\n",
       "      <td>NaN</td>\n",
       "      <td>332</td>\n",
       "      <td>NaN</td>\n",
       "      <td>NaN</td>\n",
       "      <td>12</td>\n",
       "      <td>NaN</td>\n",
       "      <td>Deutschen, Spritpreisen, inflation, Abgaben</td>\n",
       "      <td>NaN</td>\n",
       "      <td>NaN</td>\n",
       "    </tr>\n",
       "    <tr>\n",
       "      <th>4</th>\n",
       "      <td>2022-04-22 22:13:15+00:00</td>\n",
       "      <td>&lt;a href=\"http://twitter.com/download/android\" ...</td>\n",
       "      <td>NaN</td>\n",
       "      <td>NaN</td>\n",
       "      <td>0.5</td>\n",
       "      <td>de</td>\n",
       "      <td>NaN</td>\n",
       "      <td>386</td>\n",
       "      <td>NaN</td>\n",
       "      <td>NaN</td>\n",
       "      <td>12</td>\n",
       "      <td>NaN</td>\n",
       "      <td></td>\n",
       "      <td>NaN</td>\n",
       "      <td>NaN</td>\n",
       "    </tr>\n",
       "  </tbody>\n",
       "</table>\n",
       "</div>"
      ],
      "text/plain": [
       "                 created_at  \\\n",
       "0 2022-04-22 22:20:18+00:00   \n",
       "1 2022-04-22 22:19:16+00:00   \n",
       "2 2022-04-22 22:17:28+00:00   \n",
       "3 2022-04-22 22:17:20+00:00   \n",
       "4 2022-04-22 22:13:15+00:00   \n",
       "\n",
       "                                              source original_text  polarity  \\\n",
       "0  <a href=\"http://twitter.com/download/android\" ...           NaN      -0.1   \n",
       "1  <a href=\"http://twitter.com/download/android\" ...           NaN       NaN   \n",
       "2  <a href=\"http://twitter.com/download/android\" ...           NaN       NaN   \n",
       "3  <a href=\"http://twitter.com/download/android\" ...           NaN       NaN   \n",
       "4  <a href=\"http://twitter.com/download/android\" ...           NaN       NaN   \n",
       "\n",
       "   subjectivity lang  favorite_count  retweet_count original_author  \\\n",
       "0           0.5   de             NaN            355             NaN   \n",
       "1           0.5   de             NaN            505             NaN   \n",
       "2           0.5   de             NaN              4             NaN   \n",
       "3           0.5   de             NaN            332             NaN   \n",
       "4           0.5   de             NaN            386             NaN   \n",
       "\n",
       "  followers_count  friends_count possibly_sensitive  \\\n",
       "0             NaN             12                NaN   \n",
       "1             NaN             12                NaN   \n",
       "2             NaN             12                NaN   \n",
       "3             NaN             12                NaN   \n",
       "4             NaN             12                NaN   \n",
       "\n",
       "                                      hashtags user_mentions place  \n",
       "0                                                        NaN   NaN  \n",
       "1                                                        NaN   NaN  \n",
       "2                                                        NaN   NaN  \n",
       "3  Deutschen, Spritpreisen, inflation, Abgaben           NaN   NaN  \n",
       "4                                                        NaN   NaN  "
      ]
     },
     "execution_count": 56,
     "metadata": {},
     "output_type": "execute_result"
    }
   ],
   "source": [
    "tweet_df.head()"
   ]
  },
  {
   "cell_type": "markdown",
   "id": "efc92286",
   "metadata": {},
   "source": [
    "# EDA"
   ]
  },
  {
   "cell_type": "code",
   "execution_count": 25,
   "id": "4cc60d71",
   "metadata": {},
   "outputs": [
    {
     "name": "stdout",
     "output_type": "stream",
     "text": [
      "<class 'pandas.core.frame.DataFrame'>\n",
      "Int64Index: 24625 entries, 0 to 24624\n",
      "Data columns (total 15 columns):\n",
      " #   Column              Non-Null Count  Dtype              \n",
      "---  ------              --------------  -----              \n",
      " 0   created_at          24625 non-null  datetime64[ns, UTC]\n",
      " 1   source              24625 non-null  object             \n",
      " 2   original_text       0 non-null      object             \n",
      " 3   polarity            1 non-null      float64            \n",
      " 4   subjectivity        24625 non-null  float64            \n",
      " 5   lang                24625 non-null  object             \n",
      " 6   favorite_count      0 non-null      object             \n",
      " 7   retweet_count       24625 non-null  int64              \n",
      " 8   original_author     0 non-null      object             \n",
      " 9   followers_count     0 non-null      object             \n",
      " 10  friends_count       24625 non-null  int64              \n",
      " 11  possibly_sensitive  0 non-null      object             \n",
      " 12  hashtags            24625 non-null  object             \n",
      " 13  user_mentions       0 non-null      object             \n",
      " 14  place               0 non-null      object             \n",
      "dtypes: datetime64[ns, UTC](1), float64(2), int64(2), object(10)\n",
      "memory usage: 3.0+ MB\n"
     ]
    }
   ],
   "source": [
    "tweet_df.info()"
   ]
  },
  {
   "cell_type": "code",
   "execution_count": 26,
   "id": "9f87388e",
   "metadata": {},
   "outputs": [
    {
     "data": {
      "text/html": [
       "<div>\n",
       "<style scoped>\n",
       "    .dataframe tbody tr th:only-of-type {\n",
       "        vertical-align: middle;\n",
       "    }\n",
       "\n",
       "    .dataframe tbody tr th {\n",
       "        vertical-align: top;\n",
       "    }\n",
       "\n",
       "    .dataframe thead th {\n",
       "        text-align: right;\n",
       "    }\n",
       "</style>\n",
       "<table border=\"1\" class=\"dataframe\">\n",
       "  <thead>\n",
       "    <tr style=\"text-align: right;\">\n",
       "      <th></th>\n",
       "      <th>polarity</th>\n",
       "      <th>subjectivity</th>\n",
       "      <th>retweet_count</th>\n",
       "      <th>friends_count</th>\n",
       "    </tr>\n",
       "  </thead>\n",
       "  <tbody>\n",
       "    <tr>\n",
       "      <th>count</th>\n",
       "      <td>1.0</td>\n",
       "      <td>24625.0</td>\n",
       "      <td>24625.000000</td>\n",
       "      <td>24625.000000</td>\n",
       "    </tr>\n",
       "    <tr>\n",
       "      <th>mean</th>\n",
       "      <td>-0.1</td>\n",
       "      <td>0.5</td>\n",
       "      <td>538.587168</td>\n",
       "      <td>1299.831878</td>\n",
       "    </tr>\n",
       "    <tr>\n",
       "      <th>std</th>\n",
       "      <td>NaN</td>\n",
       "      <td>0.0</td>\n",
       "      <td>6045.417765</td>\n",
       "      <td>2939.129745</td>\n",
       "    </tr>\n",
       "    <tr>\n",
       "      <th>min</th>\n",
       "      <td>-0.1</td>\n",
       "      <td>0.5</td>\n",
       "      <td>0.000000</td>\n",
       "      <td>0.000000</td>\n",
       "    </tr>\n",
       "    <tr>\n",
       "      <th>25%</th>\n",
       "      <td>-0.1</td>\n",
       "      <td>0.5</td>\n",
       "      <td>0.000000</td>\n",
       "      <td>111.000000</td>\n",
       "    </tr>\n",
       "    <tr>\n",
       "      <th>50%</th>\n",
       "      <td>-0.1</td>\n",
       "      <td>0.5</td>\n",
       "      <td>1.000000</td>\n",
       "      <td>413.000000</td>\n",
       "    </tr>\n",
       "    <tr>\n",
       "      <th>75%</th>\n",
       "      <td>-0.1</td>\n",
       "      <td>0.5</td>\n",
       "      <td>37.000000</td>\n",
       "      <td>1336.000000</td>\n",
       "    </tr>\n",
       "    <tr>\n",
       "      <th>max</th>\n",
       "      <td>-0.1</td>\n",
       "      <td>0.5</td>\n",
       "      <td>434379.000000</td>\n",
       "      <td>41866.000000</td>\n",
       "    </tr>\n",
       "  </tbody>\n",
       "</table>\n",
       "</div>"
      ],
      "text/plain": [
       "       polarity  subjectivity  retweet_count  friends_count\n",
       "count       1.0       24625.0   24625.000000   24625.000000\n",
       "mean       -0.1           0.5     538.587168    1299.831878\n",
       "std         NaN           0.0    6045.417765    2939.129745\n",
       "min        -0.1           0.5       0.000000       0.000000\n",
       "25%        -0.1           0.5       0.000000     111.000000\n",
       "50%        -0.1           0.5       1.000000     413.000000\n",
       "75%        -0.1           0.5      37.000000    1336.000000\n",
       "max        -0.1           0.5  434379.000000   41866.000000"
      ]
     },
     "execution_count": 26,
     "metadata": {},
     "output_type": "execute_result"
    }
   ],
   "source": [
    "tweet_df.describe()"
   ]
  },
  {
   "cell_type": "code",
   "execution_count": 29,
   "id": "c2c28c7b",
   "metadata": {},
   "outputs": [],
   "source": [
    "tweet_df.created_at = pd.to_datetime(tweet_df.created_at)"
   ]
  },
  {
   "cell_type": "code",
   "execution_count": 41,
   "id": "1d8cc448",
   "metadata": {},
   "outputs": [],
   "source": [
    "tweet_df.polarity = pd.to_numeric(tweet_df['polarity'], errors='ignore')\n",
    "tweet_df.subjectivity = pd.to_numeric(tweet_df['subjectivity'], errors='ignore')\n",
    "tweet_df.favorite_count = pd.to_numeric(tweet_df['favorite_count'], errors='ignore')\n",
    "tweet_df.friends_count = pd.to_numeric(tweet_df['friends_count'], errors='ignore')"
   ]
  },
  {
   "cell_type": "code",
   "execution_count": 43,
   "id": "a9dbddf0",
   "metadata": {},
   "outputs": [
    {
     "name": "stdout",
     "output_type": "stream",
     "text": [
      "<class 'pandas.core.frame.DataFrame'>\n",
      "Int64Index: 24625 entries, 0 to 24624\n",
      "Data columns (total 15 columns):\n",
      " #   Column              Non-Null Count  Dtype              \n",
      "---  ------              --------------  -----              \n",
      " 0   created_at          24625 non-null  datetime64[ns, UTC]\n",
      " 1   source              24625 non-null  object             \n",
      " 2   original_text       0 non-null      object             \n",
      " 3   polarity            1 non-null      float64            \n",
      " 4   subjectivity        24625 non-null  float64            \n",
      " 5   lang                24625 non-null  object             \n",
      " 6   favorite_count      0 non-null      float64            \n",
      " 7   retweet_count       24625 non-null  int64              \n",
      " 8   original_author     0 non-null      object             \n",
      " 9   followers_count     0 non-null      object             \n",
      " 10  friends_count       24625 non-null  int64              \n",
      " 11  possibly_sensitive  0 non-null      object             \n",
      " 12  hashtags            24625 non-null  object             \n",
      " 13  user_mentions       0 non-null      object             \n",
      " 14  place               0 non-null      object             \n",
      "dtypes: datetime64[ns, UTC](1), float64(3), int64(2), object(9)\n",
      "memory usage: 3.5+ MB\n"
     ]
    }
   ],
   "source": [
    "tweet_df[['polarity'], ['subjectivity'],['favorite_count'],[]].info()"
   ]
  },
  {
   "cell_type": "code",
   "execution_count": null,
   "id": "0d3dd9b5",
   "metadata": {},
   "outputs": [],
   "source": []
  },
  {
   "cell_type": "code",
   "execution_count": null,
   "id": "11ff9827",
   "metadata": {},
   "outputs": [],
   "source": []
  },
  {
   "cell_type": "code",
   "execution_count": null,
   "id": "c65ec5c5",
   "metadata": {},
   "outputs": [],
   "source": []
  },
  {
   "cell_type": "code",
   "execution_count": null,
   "id": "49186600",
   "metadata": {},
   "outputs": [],
   "source": []
  },
  {
   "cell_type": "code",
   "execution_count": null,
   "id": "fc966ba9",
   "metadata": {},
   "outputs": [],
   "source": []
  },
  {
   "cell_type": "code",
   "execution_count": null,
   "id": "1cb414ca",
   "metadata": {},
   "outputs": [],
   "source": []
  },
  {
   "cell_type": "code",
   "execution_count": null,
   "id": "268abfc5",
   "metadata": {},
   "outputs": [],
   "source": []
  },
  {
   "cell_type": "code",
   "execution_count": null,
   "id": "5ee1ea29",
   "metadata": {},
   "outputs": [],
   "source": []
  },
  {
   "cell_type": "code",
   "execution_count": null,
   "id": "e69c8c43",
   "metadata": {},
   "outputs": [],
   "source": []
  },
  {
   "cell_type": "code",
   "execution_count": null,
   "id": "750f9b79",
   "metadata": {},
   "outputs": [],
   "source": []
  }
 ],
 "metadata": {
  "kernelspec": {
   "display_name": "Python 3",
   "language": "python",
   "name": "python3"
  },
  "language_info": {
   "codemirror_mode": {
    "name": "ipython",
    "version": 3
   },
   "file_extension": ".py",
   "mimetype": "text/x-python",
   "name": "python",
   "nbconvert_exporter": "python",
   "pygments_lexer": "ipython3",
   "version": "3.8.8"
  },
  "toc": {
   "base_numbering": 1,
   "nav_menu": {},
   "number_sections": true,
   "sideBar": true,
   "skip_h1_title": false,
   "title_cell": "Table of Contents",
   "title_sidebar": "Contents",
   "toc_cell": false,
   "toc_position": {},
   "toc_section_display": true,
   "toc_window_display": false
  }
 },
 "nbformat": 4,
 "nbformat_minor": 5
}
