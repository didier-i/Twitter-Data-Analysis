{
 "cells": [
  {
   "cell_type": "code",
   "execution_count": 6,
   "id": "feab02be",
   "metadata": {},
   "outputs": [],
   "source": [
    "from extract_dataframe import read_json\n",
    "from extract_dataframe import TweetDfExtractor\n",
    "from clean_tweets_dataframe import Clean_Tweets"
   ]
  },
  {
   "cell_type": "code",
   "execution_count": null,
   "id": "5f0f2bff",
   "metadata": {},
   "outputs": [],
   "source": [
    "if __name__ == \"__main__\":\n",
    "    _, tweet_list = read_json(\"data/Economic_Twitter_Data.json\")\n",
    "    tweet = TweetDfExtractor(tweet_list)\n",
    "    tweet_df = tweet.get_tweet_df()"
   ]
  },
  {
   "cell_type": "code",
   "execution_count": null,
   "id": "ed1d47e1",
   "metadata": {},
   "outputs": [],
   "source": [
    "tweet_df.shape"
   ]
  },
  {
   "cell_type": "code",
   "execution_count": null,
   "id": "98d1dd20",
   "metadata": {},
   "outputs": [],
   "source": [
    "ct = Clean_Tweets(tweet_df)"
   ]
  },
  {
   "cell_type": "code",
   "execution_count": null,
   "id": "26ac1cd1",
   "metadata": {},
   "outputs": [],
   "source": [
    "df_unwanted_dropped = ct.drop_unwanted_column(tweet_df)\n",
    "df_unwanted_dropped.shape"
   ]
  },
  {
   "cell_type": "code",
   "execution_count": null,
   "id": "eff22eed",
   "metadata": {},
   "outputs": [],
   "source": [
    "df_duplicate_dropped = ct.drop_duplicate(tweet_df)\n",
    "df_duplicate_dropped.shape"
   ]
  },
  {
   "cell_type": "code",
   "execution_count": null,
   "id": "8736c2d0",
   "metadata": {},
   "outputs": [],
   "source": []
  }
 ],
 "metadata": {
  "kernelspec": {
   "display_name": "Python 3",
   "language": "python",
   "name": "python3"
  },
  "language_info": {
   "codemirror_mode": {
    "name": "ipython",
    "version": 3
   },
   "file_extension": ".py",
   "mimetype": "text/x-python",
   "name": "python",
   "nbconvert_exporter": "python",
   "pygments_lexer": "ipython3",
   "version": "3.8.8"
  },
  "toc": {
   "base_numbering": 1,
   "nav_menu": {},
   "number_sections": true,
   "sideBar": true,
   "skip_h1_title": false,
   "title_cell": "Table of Contents",
   "title_sidebar": "Contents",
   "toc_cell": false,
   "toc_position": {},
   "toc_section_display": true,
   "toc_window_display": false
  }
 },
 "nbformat": 4,
 "nbformat_minor": 5
}
